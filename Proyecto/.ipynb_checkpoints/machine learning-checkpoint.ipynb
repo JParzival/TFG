{
 "cells": [
  {
   "cell_type": "code",
   "execution_count": 39,
   "metadata": {},
   "outputs": [],
   "source": [
    "import pandas as pd\n",
    "# Primer paso, importado de los datos\n",
    "\n",
    "datos = pd.read_csv(\"Datos/datos.csv\")"
   ]
  },
  {
   "cell_type": "code",
   "execution_count": 40,
   "metadata": {},
   "outputs": [
    {
     "data": {
      "text/html": [
       "<div>\n",
       "<style scoped>\n",
       "    .dataframe tbody tr th:only-of-type {\n",
       "        vertical-align: middle;\n",
       "    }\n",
       "\n",
       "    .dataframe tbody tr th {\n",
       "        vertical-align: top;\n",
       "    }\n",
       "\n",
       "    .dataframe thead th {\n",
       "        text-align: right;\n",
       "    }\n",
       "</style>\n",
       "<table border=\"1\" class=\"dataframe\">\n",
       "  <thead>\n",
       "    <tr style=\"text-align: right;\">\n",
       "      <th></th>\n",
       "      <th>nom</th>\n",
       "      <th>edad</th>\n",
       "      <th>sex</th>\n",
       "      <th>rel_ctxo_rel_mala</th>\n",
       "      <th>rel_ctxo_trauma</th>\n",
       "      <th>rel_ctxo_buena</th>\n",
       "      <th>ed_perm</th>\n",
       "      <th>ed_norm</th>\n",
       "      <th>ed_estr</th>\n",
       "      <th>resil_ba</th>\n",
       "      <th>...</th>\n",
       "      <th>max_min</th>\n",
       "      <th>conc_arb</th>\n",
       "      <th>pseu_res</th>\n",
       "      <th>deb</th>\n",
       "      <th>raz_emo</th>\n",
       "      <th>inhib</th>\n",
       "      <th>asert</th>\n",
       "      <th>agres</th>\n",
       "      <th>impuls</th>\n",
       "      <th>grupo</th>\n",
       "    </tr>\n",
       "  </thead>\n",
       "  <tbody>\n",
       "    <tr>\n",
       "      <th>0</th>\n",
       "      <td>Elena</td>\n",
       "      <td>20</td>\n",
       "      <td>0</td>\n",
       "      <td>1</td>\n",
       "      <td>0</td>\n",
       "      <td>0</td>\n",
       "      <td>0</td>\n",
       "      <td>1</td>\n",
       "      <td>0</td>\n",
       "      <td>0</td>\n",
       "      <td>...</td>\n",
       "      <td>1</td>\n",
       "      <td>1</td>\n",
       "      <td>0</td>\n",
       "      <td>1</td>\n",
       "      <td>1</td>\n",
       "      <td>0</td>\n",
       "      <td>0</td>\n",
       "      <td>1</td>\n",
       "      <td>1</td>\n",
       "      <td>1</td>\n",
       "    </tr>\n",
       "    <tr>\n",
       "      <th>1</th>\n",
       "      <td>Marta</td>\n",
       "      <td>19</td>\n",
       "      <td>0</td>\n",
       "      <td>0</td>\n",
       "      <td>0</td>\n",
       "      <td>1</td>\n",
       "      <td>0</td>\n",
       "      <td>0</td>\n",
       "      <td>1</td>\n",
       "      <td>1</td>\n",
       "      <td>...</td>\n",
       "      <td>1</td>\n",
       "      <td>1</td>\n",
       "      <td>1</td>\n",
       "      <td>1</td>\n",
       "      <td>0</td>\n",
       "      <td>1</td>\n",
       "      <td>0</td>\n",
       "      <td>0</td>\n",
       "      <td>0</td>\n",
       "      <td>2</td>\n",
       "    </tr>\n",
       "  </tbody>\n",
       "</table>\n",
       "<p>2 rows × 26 columns</p>\n",
       "</div>"
      ],
      "text/plain": [
       "     nom   edad   sex   rel_ctxo_rel_mala   rel_ctxo_trauma   rel_ctxo_buena  \\\n",
       "0  Elena     20     0                   1                 0                0   \n",
       "1  Marta     19     0                   0                 0                1   \n",
       "\n",
       "    ed_perm   ed_norm   ed_estr   resil_ba   ...     max_min   conc_arb  \\\n",
       "0         0         1         0          0   ...           1          1   \n",
       "1         0         0         1          1   ...           1          1   \n",
       "\n",
       "    pseu_res   deb   raz_emo   inhib   asert   agres   impuls   grupo  \n",
       "0          0     1         1       0       0       1        1       1  \n",
       "1          1     1         0       1       0       0        0       2  \n",
       "\n",
       "[2 rows x 26 columns]"
      ]
     },
     "execution_count": 40,
     "metadata": {},
     "output_type": "execute_result"
    }
   ],
   "source": [
    "datos.head(2)"
   ]
  },
  {
   "cell_type": "markdown",
   "metadata": {},
   "source": [
    "Eliminación de variables no necesarias: Nombre"
   ]
  },
  {
   "cell_type": "code",
   "execution_count": 41,
   "metadata": {},
   "outputs": [],
   "source": [
    "datos_mod = datos.iloc[:, -25:-1]"
   ]
  },
  {
   "cell_type": "code",
   "execution_count": 42,
   "metadata": {},
   "outputs": [
    {
     "data": {
      "text/html": [
       "<div>\n",
       "<style scoped>\n",
       "    .dataframe tbody tr th:only-of-type {\n",
       "        vertical-align: middle;\n",
       "    }\n",
       "\n",
       "    .dataframe tbody tr th {\n",
       "        vertical-align: top;\n",
       "    }\n",
       "\n",
       "    .dataframe thead th {\n",
       "        text-align: right;\n",
       "    }\n",
       "</style>\n",
       "<table border=\"1\" class=\"dataframe\">\n",
       "  <thead>\n",
       "    <tr style=\"text-align: right;\">\n",
       "      <th></th>\n",
       "      <th>edad</th>\n",
       "      <th>sex</th>\n",
       "      <th>rel_ctxo_rel_mala</th>\n",
       "      <th>rel_ctxo_trauma</th>\n",
       "      <th>rel_ctxo_buena</th>\n",
       "      <th>ed_perm</th>\n",
       "      <th>ed_norm</th>\n",
       "      <th>ed_estr</th>\n",
       "      <th>resil_ba</th>\n",
       "      <th>resil_me</th>\n",
       "      <th>...</th>\n",
       "      <th>fil_men</th>\n",
       "      <th>max_min</th>\n",
       "      <th>conc_arb</th>\n",
       "      <th>pseu_res</th>\n",
       "      <th>deb</th>\n",
       "      <th>raz_emo</th>\n",
       "      <th>inhib</th>\n",
       "      <th>asert</th>\n",
       "      <th>agres</th>\n",
       "      <th>impuls</th>\n",
       "    </tr>\n",
       "  </thead>\n",
       "  <tbody>\n",
       "    <tr>\n",
       "      <th>0</th>\n",
       "      <td>20</td>\n",
       "      <td>0</td>\n",
       "      <td>1</td>\n",
       "      <td>0</td>\n",
       "      <td>0</td>\n",
       "      <td>0</td>\n",
       "      <td>1</td>\n",
       "      <td>0</td>\n",
       "      <td>0</td>\n",
       "      <td>1</td>\n",
       "      <td>...</td>\n",
       "      <td>0</td>\n",
       "      <td>1</td>\n",
       "      <td>1</td>\n",
       "      <td>0</td>\n",
       "      <td>1</td>\n",
       "      <td>1</td>\n",
       "      <td>0</td>\n",
       "      <td>0</td>\n",
       "      <td>1</td>\n",
       "      <td>1</td>\n",
       "    </tr>\n",
       "    <tr>\n",
       "      <th>1</th>\n",
       "      <td>19</td>\n",
       "      <td>0</td>\n",
       "      <td>0</td>\n",
       "      <td>0</td>\n",
       "      <td>1</td>\n",
       "      <td>0</td>\n",
       "      <td>0</td>\n",
       "      <td>1</td>\n",
       "      <td>1</td>\n",
       "      <td>0</td>\n",
       "      <td>...</td>\n",
       "      <td>0</td>\n",
       "      <td>1</td>\n",
       "      <td>1</td>\n",
       "      <td>1</td>\n",
       "      <td>1</td>\n",
       "      <td>0</td>\n",
       "      <td>1</td>\n",
       "      <td>0</td>\n",
       "      <td>0</td>\n",
       "      <td>0</td>\n",
       "    </tr>\n",
       "  </tbody>\n",
       "</table>\n",
       "<p>2 rows × 24 columns</p>\n",
       "</div>"
      ],
      "text/plain": [
       "    edad   sex   rel_ctxo_rel_mala   rel_ctxo_trauma   rel_ctxo_buena  \\\n",
       "0     20     0                   1                 0                0   \n",
       "1     19     0                   0                 0                1   \n",
       "\n",
       "    ed_perm   ed_norm   ed_estr   resil_ba   resil_me   ...      fil_men  \\\n",
       "0         0         1         0          0          1   ...            0   \n",
       "1         0         0         1          1          0   ...            0   \n",
       "\n",
       "    max_min   conc_arb   pseu_res   deb   raz_emo   inhib   asert   agres  \\\n",
       "0         1          1          0     1         1       0       0       1   \n",
       "1         1          1          1     1         0       1       0       0   \n",
       "\n",
       "    impuls  \n",
       "0        1  \n",
       "1        0  \n",
       "\n",
       "[2 rows x 24 columns]"
      ]
     },
     "execution_count": 42,
     "metadata": {},
     "output_type": "execute_result"
    }
   ],
   "source": [
    "datos_mod.head(2)"
   ]
  },
  {
   "cell_type": "markdown",
   "metadata": {},
   "source": [
    "Centrado y escalado de los datos debido a la variable EDAD"
   ]
  },
  {
   "cell_type": "code",
   "execution_count": 43,
   "metadata": {},
   "outputs": [],
   "source": [
    "from sklearn.preprocessing import scale"
   ]
  },
  {
   "cell_type": "code",
   "execution_count": 44,
   "metadata": {},
   "outputs": [
    {
     "name": "stderr",
     "output_type": "stream",
     "text": [
      "D:\\Users\\jorge\\Anaconda3\\lib\\site-packages\\ipykernel_launcher.py:1: DataConversionWarning: Data with input dtype int64 were all converted to float64 by the scale function.\n",
      "  \"\"\"Entry point for launching an IPython kernel.\n"
     ]
    }
   ],
   "source": [
    "datos_ml = scale(datos_mod)"
   ]
  },
  {
   "cell_type": "markdown",
   "metadata": {},
   "source": [
    "Ahora que están los datos centrados y escalados y con las variables innecesarias eliminadas, se puede pasar a los métodos de machine learning"
   ]
  },
  {
   "cell_type": "code",
   "execution_count": 45,
   "metadata": {},
   "outputs": [],
   "source": [
    "# Hay que hacer una separación entre datos de train y test\n",
    "\n",
    "from sklearn.model_selection import train_test_split\n",
    "\n",
    "x_train, x_test, y_train, y_test = train_test_split(datos_ml, datos.iloc[:, 25], random_state=97)"
   ]
  },
  {
   "cell_type": "markdown",
   "metadata": {},
   "source": [
    "Las redes neuronales han sido desarrolladas en R, así como todo el análisis de datos. A continuación desarrollaré el resto de métodos:"
   ]
  },
  {
   "cell_type": "markdown",
   "metadata": {},
   "source": [
    "                                                                                        KNN"
   ]
  },
  {
   "cell_type": "code",
   "execution_count": 46,
   "metadata": {},
   "outputs": [],
   "source": [
    "# Se hace una grid para comprobar cuales serán los mejores parámetros\n",
    "\n",
    "from sklearn.model_selection import GridSearchCV\n",
    "\n",
    "grid_knn = {\n",
    "    'n_neighbors' : range(1, 15),\n",
    "    'metric' : ['euclidean', 'manhattan']\n",
    "}"
   ]
  },
  {
   "cell_type": "code",
   "execution_count": 47,
   "metadata": {},
   "outputs": [],
   "source": [
    "from sklearn.neighbors import KNeighborsClassifier\n",
    "\n",
    "knn = GridSearchCV(KNeighborsClassifier(), grid_knn, cv = 3, scoring='accuracy')"
   ]
  },
  {
   "cell_type": "code",
   "execution_count": 48,
   "metadata": {},
   "outputs": [
    {
     "name": "stderr",
     "output_type": "stream",
     "text": [
      "D:\\Users\\jorge\\Anaconda3\\lib\\site-packages\\sklearn\\model_selection\\_search.py:841: DeprecationWarning: The default of the `iid` parameter will change from True to False in version 0.22 and will be removed in 0.24. This will change numeric results when test-set sizes are unequal.\n",
      "  DeprecationWarning)\n"
     ]
    },
    {
     "data": {
      "text/plain": [
       "GridSearchCV(cv=3, error_score='raise-deprecating',\n",
       "       estimator=KNeighborsClassifier(algorithm='auto', leaf_size=30, metric='minkowski',\n",
       "           metric_params=None, n_jobs=None, n_neighbors=5, p=2,\n",
       "           weights='uniform'),\n",
       "       fit_params=None, iid='warn', n_jobs=None,\n",
       "       param_grid={'n_neighbors': range(1, 15), 'metric': ['euclidean', 'manhattan']},\n",
       "       pre_dispatch='2*n_jobs', refit=True, return_train_score='warn',\n",
       "       scoring='accuracy', verbose=0)"
      ]
     },
     "execution_count": 48,
     "metadata": {},
     "output_type": "execute_result"
    }
   ],
   "source": [
    "knn.fit(x_train, y_train)"
   ]
  },
  {
   "cell_type": "code",
   "execution_count": 49,
   "metadata": {},
   "outputs": [
    {
     "data": {
      "text/plain": [
       "{'metric': 'manhattan', 'n_neighbors': 12}"
      ]
     },
     "execution_count": 49,
     "metadata": {},
     "output_type": "execute_result"
    }
   ],
   "source": [
    "knn.best_params_"
   ]
  },
  {
   "cell_type": "code",
   "execution_count": 50,
   "metadata": {},
   "outputs": [
    {
     "name": "stdout",
     "output_type": "stream",
     "text": [
      "La puntuación máxima conseguida en train es: 0.5\n",
      "La puntuación máxima conseguida en test es: 0.5\n"
     ]
    }
   ],
   "source": [
    "from sklearn.model_selection import cross_val_score\n",
    "\n",
    "knn = knn.best_estimator_.fit(x_train, y_train)\n",
    "\n",
    "puntuacion = knn.score(x_train, y_train)\n",
    "\n",
    "print(\"La puntuación máxima conseguida en train es: {:.1f}\".format(puntuacion)) \n",
    "\n",
    "puntuacion = knn.score(x_test, y_test)\n",
    "\n",
    "print(\"La puntuación máxima conseguida en test es: {:.1f}\".format(puntuacion)) "
   ]
  },
  {
   "cell_type": "code",
   "execution_count": 75,
   "metadata": {},
   "outputs": [],
   "source": [
    "from sklearn.metrics import confusion_matrix"
   ]
  },
  {
   "cell_type": "code",
   "execution_count": 79,
   "metadata": {},
   "outputs": [
    {
     "name": "stdout",
     "output_type": "stream",
     "text": [
      "[[2 1 0 1]\n",
      " [1 7 0 0]\n",
      " [0 1 0 0]\n",
      " [3 1 0 0]]\n"
     ]
    }
   ],
   "source": [
    "print(confusion_matrix(y_test, knn.predict(x_test)))"
   ]
  },
  {
   "cell_type": "markdown",
   "metadata": {},
   "source": [
    "                                                                                    Random Forest"
   ]
  },
  {
   "cell_type": "code",
   "execution_count": 32,
   "metadata": {},
   "outputs": [],
   "source": [
    "from sklearn.ensemble import RandomForestClassifier"
   ]
  },
  {
   "cell_type": "code",
   "execution_count": 51,
   "metadata": {},
   "outputs": [],
   "source": [
    "randomForest_grid = RandomForestClassifier(random_state=97)\n",
    "\n",
    "grid_rf = { \n",
    "    'n_estimators': [50, 100, 150, 200, 250, 300, 350, 400, 450, 500],\n",
    "    'max_features': ['auto', 'sqrt'],\n",
    "    'max_depth' : range(5, 15),\n",
    "    'criterion' :['gini', 'entropy']\n",
    "}\n",
    "\n",
    "#CV por defecto de 3\n",
    "\n",
    "randomForest = GridSearchCV(estimator=randomForest_grid, param_grid=grid_rf, cv = 3)"
   ]
  },
  {
   "cell_type": "code",
   "execution_count": 52,
   "metadata": {},
   "outputs": [
    {
     "name": "stderr",
     "output_type": "stream",
     "text": [
      "D:\\Users\\jorge\\Anaconda3\\lib\\site-packages\\sklearn\\model_selection\\_search.py:841: DeprecationWarning: The default of the `iid` parameter will change from True to False in version 0.22 and will be removed in 0.24. This will change numeric results when test-set sizes are unequal.\n",
      "  DeprecationWarning)\n"
     ]
    },
    {
     "data": {
      "text/plain": [
       "{'criterion': 'gini',\n",
       " 'max_depth': 5,\n",
       " 'max_features': 'auto',\n",
       " 'n_estimators': 100}"
      ]
     },
     "execution_count": 52,
     "metadata": {},
     "output_type": "execute_result"
    }
   ],
   "source": [
    "randomForest.fit(x_train, y_train)\n",
    "\n",
    "randomForest.best_params_"
   ]
  },
  {
   "cell_type": "code",
   "execution_count": 53,
   "metadata": {},
   "outputs": [
    {
     "name": "stdout",
     "output_type": "stream",
     "text": [
      "RandomForestClassifier(bootstrap=True, class_weight=None, criterion='gini',\n",
      "            max_depth=5, max_features='auto', max_leaf_nodes=None,\n",
      "            min_impurity_decrease=0.0, min_impurity_split=None,\n",
      "            min_samples_leaf=1, min_samples_split=2,\n",
      "            min_weight_fraction_leaf=0.0, n_estimators=100, n_jobs=None,\n",
      "            oob_score=False, random_state=97, verbose=0, warm_start=False)\n",
      "\n",
      "Clasificación Random Forest Grid CV 5\n",
      "La puntuación en tanto por 1 de train de: 0.920\n",
      "La puntuación en tanto por 1 de test es de: 0.471\n"
     ]
    }
   ],
   "source": [
    "print(randomForest.best_estimator_)\n",
    "print(\"\")\n",
    "\n",
    "randomForest = randomForest.best_estimator_.fit(x_train, y_train)\n",
    "\n",
    "print(\"Clasificación Random Forest Grid CV 5\")\n",
    "\n",
    "puntuacion = randomForest.score(x_train, y_train)\n",
    "\n",
    "print(\"La puntuación en tanto por 1 de train de: {:.3f}\".format(puntuacion))\n",
    "\n",
    "puntuacion = randomForest.score(x_test, y_test)\n",
    "\n",
    "print(\"La puntuación en tanto por 1 de test es de: {:.3f}\".format(puntuacion))"
   ]
  },
  {
   "cell_type": "code",
   "execution_count": 80,
   "metadata": {},
   "outputs": [
    {
     "name": "stdout",
     "output_type": "stream",
     "text": [
      "[[1 2 0 1]\n",
      " [2 6 0 0]\n",
      " [0 1 0 0]\n",
      " [1 2 0 1]]\n"
     ]
    }
   ],
   "source": [
    "print(confusion_matrix(y_test, randomForest.predict(x_test)))"
   ]
  },
  {
   "cell_type": "markdown",
   "metadata": {},
   "source": [
    "                                                                                        SVM"
   ]
  },
  {
   "cell_type": "code",
   "execution_count": 69,
   "metadata": {},
   "outputs": [],
   "source": [
    "from sklearn import svm"
   ]
  },
  {
   "cell_type": "code",
   "execution_count": 70,
   "metadata": {},
   "outputs": [
    {
     "name": "stderr",
     "output_type": "stream",
     "text": [
      "D:\\Users\\jorge\\Anaconda3\\lib\\site-packages\\sklearn\\model_selection\\_search.py:841: DeprecationWarning: The default of the `iid` parameter will change from True to False in version 0.22 and will be removed in 0.24. This will change numeric results when test-set sizes are unequal.\n",
      "  DeprecationWarning)\n"
     ]
    },
    {
     "data": {
      "text/plain": [
       "{'C': 2, 'degree': 2, 'kernel': 'rbf'}"
      ]
     },
     "execution_count": 70,
     "metadata": {},
     "output_type": "execute_result"
    }
   ],
   "source": [
    "parametros = {\n",
    "    'kernel':('linear', 'rbf', 'poly'),\n",
    "    'C':range(1, 10),\n",
    "    'degree': range(2, 5),\n",
    "    \n",
    "}\n",
    "\n",
    "svc_grid = svm.SVC(gamma=\"scale\", random_state=97)\n",
    "svc_grid = GridSearchCV(svc_grid, parametros, cv=3)\n",
    "svc_grid.fit(x_train, y_train)\n",
    "svc_grid.best_params_"
   ]
  },
  {
   "cell_type": "code",
   "execution_count": 71,
   "metadata": {},
   "outputs": [
    {
     "name": "stdout",
     "output_type": "stream",
     "text": [
      "Clasificación SVM Grid CV 3\n",
      "La puntuación del train en tanto por 1 es de: 0.880\n",
      "La puntuación del test en tanto por 1 es de: 0.412\n"
     ]
    }
   ],
   "source": [
    "print(\"Clasificación SVM Grid CV 3\")\n",
    "\n",
    "svc_grid = svc_grid.best_estimator_.fit(x_train, y_train)\n",
    "\n",
    "puntuacion = svc_grid.score(x_train, y_train)\n",
    "\n",
    "print(\"La puntuación del train en tanto por 1 es de: {:.3f}\".format(puntuacion))\n",
    "\n",
    "puntuacion = svc_grid.score(x_test, y_test)\n",
    "\n",
    "print(\"La puntuación del test en tanto por 1 es de: {:.3f}\".format(puntuacion))"
   ]
  },
  {
   "cell_type": "code",
   "execution_count": 81,
   "metadata": {},
   "outputs": [
    {
     "name": "stdout",
     "output_type": "stream",
     "text": [
      "[[1 2 0 1]\n",
      " [2 6 0 0]\n",
      " [0 1 0 0]\n",
      " [1 3 0 0]]\n"
     ]
    }
   ],
   "source": [
    "print(confusion_matrix(y_test, svc_grid.predict(x_test)))"
   ]
  },
  {
   "cell_type": "markdown",
   "metadata": {},
   "source": [
    "                                                                                            Dendrograma"
   ]
  },
  {
   "cell_type": "code",
   "execution_count": null,
   "metadata": {},
   "outputs": [],
   "source": [
    "from scipy.cluster.hierarchy import dendrogram, linkage\n",
    "import matplotlib.pyplot as plt"
   ]
  },
  {
   "cell_type": "code",
   "execution_count": null,
   "metadata": {},
   "outputs": [],
   "source": [
    "linked = linkage(datos_mod, 'single')\n",
    "\n",
    "labelList = range(1, 4)\n",
    "\n",
    "plt.figure(figsize=(500, 500))  \n",
    "dendrogram(linked,  \n",
    "            orientation='top',\n",
    "            labels=labelList,\n",
    "            distance_sort='descending',\n",
    "            show_leaf_counts=True)\n",
    "\n",
    "plt.savefig(\"Imágenes Obtenidas/clustering jerárquico.png\")\n",
    "plt.show()"
   ]
  },
  {
   "cell_type": "markdown",
   "metadata": {},
   "source": [
    "                                                                                            K-Means"
   ]
  },
  {
   "cell_type": "code",
   "execution_count": 72,
   "metadata": {},
   "outputs": [],
   "source": [
    "from sklearn.cluster import KMeans"
   ]
  },
  {
   "cell_type": "code",
   "execution_count": 73,
   "metadata": {},
   "outputs": [],
   "source": [
    "# 4 clusters, uno para cada grupo\n",
    "\n",
    "kmeans = KMeans(n_clusters=4, random_state=97)\n",
    "\n",
    "kmeans_model = kmeans.fit(x_train, y_train)"
   ]
  },
  {
   "cell_type": "code",
   "execution_count": 74,
   "metadata": {},
   "outputs": [
    {
     "data": {
      "text/plain": [
       "array([[-0.73559281,  0.22393804, -0.10066827,  0.50428397, -0.4149716 ,\n",
       "         1.58943883, -0.98518437, -0.53708616,  0.67175988, -0.64456732,\n",
       "        -0.12309149,  0.0146385 ,  0.21650635,  0.12347898,  0.26799143,\n",
       "         0.1754116 ,  0.12309149, -0.61499388, -0.59214434,  0.51395617,\n",
       "         0.09116072, -0.3939193 ,  0.18260929, -0.22971146],\n",
       "       [ 0.87158615,  0.18880023,  0.4439408 ,  0.44469486, -0.72929232,\n",
       "         0.00473047,  0.30067315, -0.3657301 , -1.14470294,  1.18019369,\n",
       "        -0.12309149, -0.59251076, -0.47425201, -0.73009398, -0.71586752,\n",
       "        -0.24432331,  0.12309149, -0.15780009,  0.25197632, -0.18880023,\n",
       "        -0.02918939,  0.23447577, -0.19437404, -0.08313367],\n",
       "       [ 0.03983879, -0.07990075, -0.22141869, -0.50172044,  0.63220387,\n",
       "        -0.62915287,  1.01503844, -0.53708616,  0.39869685, -0.37025684,\n",
       "        -0.12309149,  0.34156503,  0.21650635,  0.58309519,  0.22458589,\n",
       "         0.1754116 ,  0.12309149,  0.39688354,  0.00370553,  0.22458589,\n",
       "         0.1035497 , -0.22141869,  0.02738086,  0.31348858],\n",
       "       [-0.23509089, -0.24066202, -0.06808482, -0.2836165 ,  0.31844343,\n",
       "        -0.62915287, -0.98518437,  1.86189867,  0.20082508, -0.17148113,\n",
       "        -0.12309149,  0.34156503,  0.21650635,  0.32775285,  0.24066202,\n",
       "         0.1754116 ,  0.12309149,  0.76293739,  0.25197632, -0.30592629,\n",
       "         0.72299881, -0.3939193 , -0.53708616, -0.11570651]])"
      ]
     },
     "execution_count": 74,
     "metadata": {},
     "output_type": "execute_result"
    }
   ],
   "source": [
    "prediction_kmeans = kmeans_model.predict(x_test)\n",
    "\n",
    "kmeans_model.cluster_centers_"
   ]
  },
  {
   "cell_type": "code",
   "execution_count": null,
   "metadata": {},
   "outputs": [],
   "source": []
  },
  {
   "cell_type": "markdown",
   "metadata": {},
   "source": [
    "                                                                                Minería de Reglas"
   ]
  },
  {
   "cell_type": "code",
   "execution_count": 86,
   "metadata": {},
   "outputs": [],
   "source": [
    "from apyori import apriori"
   ]
  },
  {
   "cell_type": "code",
   "execution_count": 87,
   "metadata": {},
   "outputs": [],
   "source": [
    "association_rules = apriori(datos, min_support=0.01, min_confidence=0.5, min_lift=3, min_length=2) "
   ]
  },
  {
   "cell_type": "code",
   "execution_count": 88,
   "metadata": {},
   "outputs": [],
   "source": [
    "reglas = list(association_rules)"
   ]
  },
  {
   "cell_type": "code",
   "execution_count": 89,
   "metadata": {},
   "outputs": [
    {
     "name": "stdout",
     "output_type": "stream",
     "text": [
      "Si h  ocurre --> 100 % que b  ocurra [support = 3.84%]\n",
      "Si f  ocurre --> 100 % que l  ocurra [support = 3.84%]\n",
      "Si z  ocurre --> 100 % que o  ocurra [support = 3.84%]\n",
      "Si p  ocurre --> 60 % que u  ocurra [support = 11.53%]\n",
      "Si q  ocurre --> 100 % que t  ocurra [support = 3.84%]\n",
      "Si h    ocurre --> 100 % que b  ocurra [support = 3.84%]\n",
      "Si f    ocurre --> 100 % que l  ocurra [support = 3.84%]\n",
      "Si z    ocurre --> 100 % que o  ocurra [support = 3.84%]\n",
      "Si p    ocurre --> 60 % que u  ocurra [support = 11.53%]\n",
      "Si q    ocurre --> 100 % que t  ocurra [support = 3.84%]\n",
      "Si b _  ocurre --> 66 % que c  ocurra [support = 7.69%]\n",
      "Si o _  ocurre --> 66 % que c  ocurra [support = 15.38%]\n",
      "Si t _  ocurre --> 75 % que c  ocurra [support = 11.53%]\n",
      "Si _ u  ocurre --> 66 % que c  ocurra [support = 7.69%]\n",
      "Si _ x  ocurre --> 60 % que c  ocurra [support = 11.53%]\n",
      "Si f _  ocurre --> 100 % que l  ocurra [support = 3.84%]\n",
      "Si _ g  ocurre --> 100 % que x  ocurra [support = 3.84%]\n",
      "Si _ z  ocurre --> 100 % que o  ocurra [support = 3.84%]\n",
      "Si t _  ocurre --> 75 % que x  ocurra [support = 11.53%]\n",
      "Si b a  ocurre --> 66 % que c  ocurra [support = 7.69%]\n"
     ]
    }
   ],
   "source": [
    "for i in range(0, 20):\n",
    "    regla = reglas[i]\n",
    "    supp = int(regla.support*10000)/100\n",
    "    conf = int(regla.ordered_statistics[0].confidence*100)\n",
    "    hypo = ''.join([x+' ' for x in regla.ordered_statistics[0].items_base])\n",
    "    conc = ''.join([x+' ' for x in regla.ordered_statistics[0].items_add])\n",
    "    print(\"Si \" + str(hypo) + \" ocurre --> \" + str(conf) + \" % que \" + str(conc) + \" ocurra [support = \" + str(supp) + \"%]\")"
   ]
  }
 ],
 "metadata": {
  "kernelspec": {
   "display_name": "Python 3",
   "language": "python",
   "name": "python3"
  },
  "language_info": {
   "codemirror_mode": {
    "name": "ipython",
    "version": 3
   },
   "file_extension": ".py",
   "mimetype": "text/x-python",
   "name": "python",
   "nbconvert_exporter": "python",
   "pygments_lexer": "ipython3",
   "version": "3.7.1"
  }
 },
 "nbformat": 4,
 "nbformat_minor": 2
}
