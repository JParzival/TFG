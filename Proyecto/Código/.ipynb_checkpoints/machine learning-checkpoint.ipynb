{
 "cells": [
  {
   "cell_type": "code",
   "execution_count": 24,
   "metadata": {},
   "outputs": [],
   "source": [
    "##### IMPORTACIÓN DE LOS DATOS DESDE ARCHIVO.CSV\n",
    "\n",
    "import pandas as pd\n",
    "# Primer paso, importado de los datos\n",
    "\n",
    "datos = pd.read_csv(\"Datos/datos.csv\")"
   ]
  },
  {
   "cell_type": "code",
   "execution_count": 63,
   "metadata": {},
   "outputs": [
    {
     "data": {
      "text/plain": [
       "200"
      ]
     },
     "execution_count": 63,
     "metadata": {},
     "output_type": "execute_result"
    }
   ],
   "source": [
    "##### EN CASO DE QUERER HACERLO MEDIANTE API, CORRER LOS DOS SIGUIENTES CHUNKS\n",
    "\n",
    "import requests\n",
    "\n",
    "uri = \"http://localhost:9797/api/datos\"\n",
    "request = requests.get(url=uri)\n",
    "\n",
    "request.status_code"
   ]
  },
  {
   "cell_type": "code",
   "execution_count": 65,
   "metadata": {},
   "outputs": [
    {
     "data": {
      "text/html": [
       "<div>\n",
       "<style scoped>\n",
       "    .dataframe tbody tr th:only-of-type {\n",
       "        vertical-align: middle;\n",
       "    }\n",
       "\n",
       "    .dataframe tbody tr th {\n",
       "        vertical-align: top;\n",
       "    }\n",
       "\n",
       "    .dataframe thead th {\n",
       "        text-align: right;\n",
       "    }\n",
       "</style>\n",
       "<table border=\"1\" class=\"dataframe\">\n",
       "  <thead>\n",
       "    <tr style=\"text-align: right;\">\n",
       "      <th></th>\n",
       "      <th>agres</th>\n",
       "      <th>asert</th>\n",
       "      <th>conc_arb</th>\n",
       "      <th>deb</th>\n",
       "      <th>ed_estr</th>\n",
       "      <th>ed_norm</th>\n",
       "      <th>ed_perm</th>\n",
       "      <th>edad</th>\n",
       "      <th>etiq</th>\n",
       "      <th>fil_men</th>\n",
       "      <th>...</th>\n",
       "      <th>pen_dic</th>\n",
       "      <th>pseu_res</th>\n",
       "      <th>raz_emo</th>\n",
       "      <th>rel_ctxo_buena</th>\n",
       "      <th>rel_ctxo_rel_mala</th>\n",
       "      <th>rel_ctxo_trauma</th>\n",
       "      <th>resil_al</th>\n",
       "      <th>resil_ba</th>\n",
       "      <th>resil_me</th>\n",
       "      <th>sex</th>\n",
       "    </tr>\n",
       "  </thead>\n",
       "  <tbody>\n",
       "    <tr>\n",
       "      <th>0</th>\n",
       "      <td>1</td>\n",
       "      <td>0</td>\n",
       "      <td>1</td>\n",
       "      <td>1</td>\n",
       "      <td>0</td>\n",
       "      <td>1</td>\n",
       "      <td>0</td>\n",
       "      <td>20</td>\n",
       "      <td>0</td>\n",
       "      <td>0</td>\n",
       "      <td>...</td>\n",
       "      <td>0</td>\n",
       "      <td>0</td>\n",
       "      <td>1</td>\n",
       "      <td>0</td>\n",
       "      <td>1</td>\n",
       "      <td>0</td>\n",
       "      <td>0</td>\n",
       "      <td>0</td>\n",
       "      <td>1</td>\n",
       "      <td>0</td>\n",
       "    </tr>\n",
       "    <tr>\n",
       "      <th>1</th>\n",
       "      <td>0</td>\n",
       "      <td>0</td>\n",
       "      <td>1</td>\n",
       "      <td>1</td>\n",
       "      <td>1</td>\n",
       "      <td>0</td>\n",
       "      <td>0</td>\n",
       "      <td>19</td>\n",
       "      <td>1</td>\n",
       "      <td>0</td>\n",
       "      <td>...</td>\n",
       "      <td>1</td>\n",
       "      <td>1</td>\n",
       "      <td>0</td>\n",
       "      <td>1</td>\n",
       "      <td>0</td>\n",
       "      <td>0</td>\n",
       "      <td>0</td>\n",
       "      <td>1</td>\n",
       "      <td>0</td>\n",
       "      <td>0</td>\n",
       "    </tr>\n",
       "    <tr>\n",
       "      <th>2</th>\n",
       "      <td>0</td>\n",
       "      <td>0</td>\n",
       "      <td>1</td>\n",
       "      <td>1</td>\n",
       "      <td>0</td>\n",
       "      <td>0</td>\n",
       "      <td>1</td>\n",
       "      <td>23</td>\n",
       "      <td>1</td>\n",
       "      <td>0</td>\n",
       "      <td>...</td>\n",
       "      <td>1</td>\n",
       "      <td>0</td>\n",
       "      <td>1</td>\n",
       "      <td>1</td>\n",
       "      <td>0</td>\n",
       "      <td>0</td>\n",
       "      <td>0</td>\n",
       "      <td>1</td>\n",
       "      <td>0</td>\n",
       "      <td>0</td>\n",
       "    </tr>\n",
       "    <tr>\n",
       "      <th>3</th>\n",
       "      <td>0</td>\n",
       "      <td>0</td>\n",
       "      <td>1</td>\n",
       "      <td>1</td>\n",
       "      <td>1</td>\n",
       "      <td>0</td>\n",
       "      <td>0</td>\n",
       "      <td>23</td>\n",
       "      <td>1</td>\n",
       "      <td>1</td>\n",
       "      <td>...</td>\n",
       "      <td>1</td>\n",
       "      <td>1</td>\n",
       "      <td>1</td>\n",
       "      <td>1</td>\n",
       "      <td>0</td>\n",
       "      <td>0</td>\n",
       "      <td>0</td>\n",
       "      <td>0</td>\n",
       "      <td>1</td>\n",
       "      <td>0</td>\n",
       "    </tr>\n",
       "    <tr>\n",
       "      <th>4</th>\n",
       "      <td>1</td>\n",
       "      <td>0</td>\n",
       "      <td>1</td>\n",
       "      <td>1</td>\n",
       "      <td>0</td>\n",
       "      <td>0</td>\n",
       "      <td>1</td>\n",
       "      <td>16</td>\n",
       "      <td>1</td>\n",
       "      <td>1</td>\n",
       "      <td>...</td>\n",
       "      <td>1</td>\n",
       "      <td>0</td>\n",
       "      <td>1</td>\n",
       "      <td>0</td>\n",
       "      <td>0</td>\n",
       "      <td>1</td>\n",
       "      <td>0</td>\n",
       "      <td>1</td>\n",
       "      <td>0</td>\n",
       "      <td>0</td>\n",
       "    </tr>\n",
       "  </tbody>\n",
       "</table>\n",
       "<p>5 rows × 26 columns</p>\n",
       "</div>"
      ],
      "text/plain": [
       "   agres  asert  conc_arb  deb  ed_estr  ed_norm  ed_perm  edad  etiq  \\\n",
       "0      1      0         1    1        0        1        0    20     0   \n",
       "1      0      0         1    1        1        0        0    19     1   \n",
       "2      0      0         1    1        0        0        1    23     1   \n",
       "3      0      0         1    1        1        0        0    23     1   \n",
       "4      1      0         1    1        0        0        1    16     1   \n",
       "\n",
       "   fil_men ...   pen_dic  pseu_res  raz_emo  rel_ctxo_buena  \\\n",
       "0        0 ...         0         0        1               0   \n",
       "1        0 ...         1         1        0               1   \n",
       "2        0 ...         1         0        1               1   \n",
       "3        1 ...         1         1        1               1   \n",
       "4        1 ...         1         0        1               0   \n",
       "\n",
       "   rel_ctxo_rel_mala rel_ctxo_trauma  resil_al  resil_ba  resil_me  sex  \n",
       "0                  1               0         0         0         1    0  \n",
       "1                  0               0         0         1         0    0  \n",
       "2                  0               0         0         1         0    0  \n",
       "3                  0               0         0         0         1    0  \n",
       "4                  0               1         0         1         0    0  \n",
       "\n",
       "[5 rows x 26 columns]"
      ]
     },
     "execution_count": 65,
     "metadata": {},
     "output_type": "execute_result"
    }
   ],
   "source": [
    "import json\n",
    "\n",
    "with open('./Datos/pacientes.json', 'w') as outfile:\n",
    "    json.dump(request.json(), outfile)\n",
    "\n",
    "# Como en data science prima la efectividad, es más efectivo hacer el pequeño cambio a mano que he hecho que codificar el cambio, el cual es tedioso. \n",
    "# Por ello, se usa pacientesMod.json\n",
    "\n",
    "df_json = pd.read_json('./Datos/pacientesMod.json', orient='columns')\n",
    "df_json.head()"
   ]
  },
  {
   "cell_type": "code",
   "execution_count": 3,
   "metadata": {},
   "outputs": [
    {
     "data": {
      "text/html": [
       "<div>\n",
       "<style scoped>\n",
       "    .dataframe tbody tr th:only-of-type {\n",
       "        vertical-align: middle;\n",
       "    }\n",
       "\n",
       "    .dataframe tbody tr th {\n",
       "        vertical-align: top;\n",
       "    }\n",
       "\n",
       "    .dataframe thead th {\n",
       "        text-align: right;\n",
       "    }\n",
       "</style>\n",
       "<table border=\"1\" class=\"dataframe\">\n",
       "  <thead>\n",
       "    <tr style=\"text-align: right;\">\n",
       "      <th></th>\n",
       "      <th>nom</th>\n",
       "      <th>edad</th>\n",
       "      <th>sex</th>\n",
       "      <th>rel_ctxo_rel_mala</th>\n",
       "      <th>rel_ctxo_trauma</th>\n",
       "      <th>rel_ctxo_buena</th>\n",
       "      <th>ed_perm</th>\n",
       "      <th>ed_norm</th>\n",
       "      <th>ed_estr</th>\n",
       "      <th>resil_ba</th>\n",
       "      <th>...</th>\n",
       "      <th>max_min</th>\n",
       "      <th>conc_arb</th>\n",
       "      <th>pseu_res</th>\n",
       "      <th>deb</th>\n",
       "      <th>raz_emo</th>\n",
       "      <th>inhib</th>\n",
       "      <th>asert</th>\n",
       "      <th>agres</th>\n",
       "      <th>impuls</th>\n",
       "      <th>grupo</th>\n",
       "    </tr>\n",
       "  </thead>\n",
       "  <tbody>\n",
       "    <tr>\n",
       "      <th>0</th>\n",
       "      <td>Elena</td>\n",
       "      <td>20</td>\n",
       "      <td>0</td>\n",
       "      <td>1</td>\n",
       "      <td>0</td>\n",
       "      <td>0</td>\n",
       "      <td>0</td>\n",
       "      <td>1</td>\n",
       "      <td>0</td>\n",
       "      <td>0</td>\n",
       "      <td>...</td>\n",
       "      <td>1</td>\n",
       "      <td>1</td>\n",
       "      <td>0</td>\n",
       "      <td>1</td>\n",
       "      <td>1</td>\n",
       "      <td>0</td>\n",
       "      <td>0</td>\n",
       "      <td>1</td>\n",
       "      <td>1</td>\n",
       "      <td>1</td>\n",
       "    </tr>\n",
       "    <tr>\n",
       "      <th>1</th>\n",
       "      <td>Marta</td>\n",
       "      <td>19</td>\n",
       "      <td>0</td>\n",
       "      <td>0</td>\n",
       "      <td>0</td>\n",
       "      <td>1</td>\n",
       "      <td>0</td>\n",
       "      <td>0</td>\n",
       "      <td>1</td>\n",
       "      <td>1</td>\n",
       "      <td>...</td>\n",
       "      <td>1</td>\n",
       "      <td>1</td>\n",
       "      <td>1</td>\n",
       "      <td>1</td>\n",
       "      <td>0</td>\n",
       "      <td>1</td>\n",
       "      <td>0</td>\n",
       "      <td>0</td>\n",
       "      <td>0</td>\n",
       "      <td>2</td>\n",
       "    </tr>\n",
       "  </tbody>\n",
       "</table>\n",
       "<p>2 rows × 26 columns</p>\n",
       "</div>"
      ],
      "text/plain": [
       "     nom   edad   sex   rel_ctxo_rel_mala   rel_ctxo_trauma   rel_ctxo_buena  \\\n",
       "0  Elena     20     0                   1                 0                0   \n",
       "1  Marta     19     0                   0                 0                1   \n",
       "\n",
       "    ed_perm   ed_norm   ed_estr   resil_ba  ...   max_min   conc_arb  \\\n",
       "0         0         1         0          0  ...         1          1   \n",
       "1         0         0         1          1  ...         1          1   \n",
       "\n",
       "    pseu_res   deb   raz_emo   inhib   asert   agres   impuls   grupo  \n",
       "0          0     1         1       0       0       1        1       1  \n",
       "1          1     1         0       1       0       0        0       2  \n",
       "\n",
       "[2 rows x 26 columns]"
      ]
     },
     "execution_count": 3,
     "metadata": {},
     "output_type": "execute_result"
    }
   ],
   "source": [
    "datos.head(2)"
   ]
  },
  {
   "cell_type": "markdown",
   "metadata": {},
   "source": [
    "Eliminación de variables no necesarias: Nombre"
   ]
  },
  {
   "cell_type": "code",
   "execution_count": 4,
   "metadata": {},
   "outputs": [],
   "source": [
    "datos_mod = datos.iloc[:, -25:-1]"
   ]
  },
  {
   "cell_type": "code",
   "execution_count": 5,
   "metadata": {},
   "outputs": [
    {
     "data": {
      "text/html": [
       "<div>\n",
       "<style scoped>\n",
       "    .dataframe tbody tr th:only-of-type {\n",
       "        vertical-align: middle;\n",
       "    }\n",
       "\n",
       "    .dataframe tbody tr th {\n",
       "        vertical-align: top;\n",
       "    }\n",
       "\n",
       "    .dataframe thead th {\n",
       "        text-align: right;\n",
       "    }\n",
       "</style>\n",
       "<table border=\"1\" class=\"dataframe\">\n",
       "  <thead>\n",
       "    <tr style=\"text-align: right;\">\n",
       "      <th></th>\n",
       "      <th>edad</th>\n",
       "      <th>sex</th>\n",
       "      <th>rel_ctxo_rel_mala</th>\n",
       "      <th>rel_ctxo_trauma</th>\n",
       "      <th>rel_ctxo_buena</th>\n",
       "      <th>ed_perm</th>\n",
       "      <th>ed_norm</th>\n",
       "      <th>ed_estr</th>\n",
       "      <th>resil_ba</th>\n",
       "      <th>resil_me</th>\n",
       "      <th>...</th>\n",
       "      <th>fil_men</th>\n",
       "      <th>max_min</th>\n",
       "      <th>conc_arb</th>\n",
       "      <th>pseu_res</th>\n",
       "      <th>deb</th>\n",
       "      <th>raz_emo</th>\n",
       "      <th>inhib</th>\n",
       "      <th>asert</th>\n",
       "      <th>agres</th>\n",
       "      <th>impuls</th>\n",
       "    </tr>\n",
       "  </thead>\n",
       "  <tbody>\n",
       "    <tr>\n",
       "      <th>0</th>\n",
       "      <td>20</td>\n",
       "      <td>0</td>\n",
       "      <td>1</td>\n",
       "      <td>0</td>\n",
       "      <td>0</td>\n",
       "      <td>0</td>\n",
       "      <td>1</td>\n",
       "      <td>0</td>\n",
       "      <td>0</td>\n",
       "      <td>1</td>\n",
       "      <td>...</td>\n",
       "      <td>0</td>\n",
       "      <td>1</td>\n",
       "      <td>1</td>\n",
       "      <td>0</td>\n",
       "      <td>1</td>\n",
       "      <td>1</td>\n",
       "      <td>0</td>\n",
       "      <td>0</td>\n",
       "      <td>1</td>\n",
       "      <td>1</td>\n",
       "    </tr>\n",
       "    <tr>\n",
       "      <th>1</th>\n",
       "      <td>19</td>\n",
       "      <td>0</td>\n",
       "      <td>0</td>\n",
       "      <td>0</td>\n",
       "      <td>1</td>\n",
       "      <td>0</td>\n",
       "      <td>0</td>\n",
       "      <td>1</td>\n",
       "      <td>1</td>\n",
       "      <td>0</td>\n",
       "      <td>...</td>\n",
       "      <td>0</td>\n",
       "      <td>1</td>\n",
       "      <td>1</td>\n",
       "      <td>1</td>\n",
       "      <td>1</td>\n",
       "      <td>0</td>\n",
       "      <td>1</td>\n",
       "      <td>0</td>\n",
       "      <td>0</td>\n",
       "      <td>0</td>\n",
       "    </tr>\n",
       "  </tbody>\n",
       "</table>\n",
       "<p>2 rows × 24 columns</p>\n",
       "</div>"
      ],
      "text/plain": [
       "    edad   sex   rel_ctxo_rel_mala   rel_ctxo_trauma   rel_ctxo_buena  \\\n",
       "0     20     0                   1                 0                0   \n",
       "1     19     0                   0                 0                1   \n",
       "\n",
       "    ed_perm   ed_norm   ed_estr   resil_ba   resil_me  ...   fil_men  \\\n",
       "0         0         1         0          0          1  ...         0   \n",
       "1         0         0         1          1          0  ...         0   \n",
       "\n",
       "    max_min   conc_arb   pseu_res   deb   raz_emo   inhib   asert   agres  \\\n",
       "0         1          1          0     1         1       0       0       1   \n",
       "1         1          1          1     1         0       1       0       0   \n",
       "\n",
       "    impuls  \n",
       "0        1  \n",
       "1        0  \n",
       "\n",
       "[2 rows x 24 columns]"
      ]
     },
     "execution_count": 5,
     "metadata": {},
     "output_type": "execute_result"
    }
   ],
   "source": [
    "datos_mod.head(2)"
   ]
  },
  {
   "cell_type": "markdown",
   "metadata": {},
   "source": [
    "Centrado y escalado de los datos debido a la variable EDAD"
   ]
  },
  {
   "cell_type": "code",
   "execution_count": 40,
   "metadata": {},
   "outputs": [],
   "source": [
    "from sklearn.preprocessing import scale"
   ]
  },
  {
   "cell_type": "code",
   "execution_count": 7,
   "metadata": {},
   "outputs": [
    {
     "name": "stderr",
     "output_type": "stream",
     "text": [
      "D:\\Users\\Jorge\\Anaconda3\\lib\\site-packages\\ipykernel_launcher.py:1: DataConversionWarning: Data with input dtype int64 were all converted to float64 by the scale function.\n",
      "  \"\"\"Entry point for launching an IPython kernel.\n"
     ]
    }
   ],
   "source": [
    "datos_ml = scale(datos_mod)"
   ]
  },
  {
   "cell_type": "markdown",
   "metadata": {},
   "source": [
    "Ahora que están los datos centrados y escalados y con las variables innecesarias eliminadas, se puede pasar a los métodos de machine learning"
   ]
  },
  {
   "cell_type": "code",
   "execution_count": 8,
   "metadata": {},
   "outputs": [],
   "source": [
    "# Hay que hacer una separación entre datos de train y test\n",
    "\n",
    "from sklearn.model_selection import train_test_split\n",
    "\n",
    "x_train, x_test, y_train, y_test = train_test_split(datos_ml, datos.iloc[:, 25], random_state=97)"
   ]
  },
  {
   "cell_type": "markdown",
   "metadata": {},
   "source": [
    "Las redes neuronales han sido desarrolladas en R, así como todo el análisis de datos. A continuación desarrollaré el resto de métodos:"
   ]
  },
  {
   "cell_type": "markdown",
   "metadata": {},
   "source": [
    "                                                                                        KNN"
   ]
  },
  {
   "cell_type": "code",
   "execution_count": 10,
   "metadata": {},
   "outputs": [],
   "source": [
    "# Se hace una grid para comprobar cuales serán los mejores parámetros\n",
    "\n",
    "from sklearn.model_selection import GridSearchCV\n",
    "\n",
    "grid_knn = {\n",
    "    'n_neighbors' : range(1, 15),\n",
    "    'metric' : ['euclidean', 'manhattan']\n",
    "}"
   ]
  },
  {
   "cell_type": "code",
   "execution_count": 11,
   "metadata": {},
   "outputs": [],
   "source": [
    "from sklearn.neighbors import KNeighborsClassifier\n",
    "\n",
    "knn = GridSearchCV(KNeighborsClassifier(), grid_knn, cv = 3, scoring='accuracy')"
   ]
  },
  {
   "cell_type": "code",
   "execution_count": 12,
   "metadata": {},
   "outputs": [
    {
     "data": {
      "text/plain": [
       "GridSearchCV(cv=3, error_score='raise',\n",
       "       estimator=KNeighborsClassifier(algorithm='auto', leaf_size=30, metric='minkowski',\n",
       "           metric_params=None, n_jobs=1, n_neighbors=5, p=2,\n",
       "           weights='uniform'),\n",
       "       fit_params=None, iid=True, n_jobs=1,\n",
       "       param_grid={'n_neighbors': range(1, 15), 'metric': ['euclidean', 'manhattan']},\n",
       "       pre_dispatch='2*n_jobs', refit=True, return_train_score='warn',\n",
       "       scoring='accuracy', verbose=0)"
      ]
     },
     "execution_count": 12,
     "metadata": {},
     "output_type": "execute_result"
    }
   ],
   "source": [
    "knn.fit(x_train, y_train)"
   ]
  },
  {
   "cell_type": "code",
   "execution_count": 13,
   "metadata": {},
   "outputs": [
    {
     "data": {
      "text/plain": [
       "{'metric': 'manhattan', 'n_neighbors': 12}"
      ]
     },
     "execution_count": 13,
     "metadata": {},
     "output_type": "execute_result"
    }
   ],
   "source": [
    "knn.best_params_"
   ]
  },
  {
   "cell_type": "code",
   "execution_count": 14,
   "metadata": {},
   "outputs": [
    {
     "name": "stdout",
     "output_type": "stream",
     "text": [
      "La puntuación máxima conseguida en train es: 0.5\n",
      "La puntuación máxima conseguida en test es: 0.5\n"
     ]
    }
   ],
   "source": [
    "from sklearn.model_selection import cross_val_score\n",
    "\n",
    "knn = knn.best_estimator_.fit(x_train, y_train)\n",
    "\n",
    "puntuacion = knn.score(x_train, y_train)\n",
    "\n",
    "print(\"La puntuación máxima conseguida en train es: {:.1f}\".format(puntuacion)) \n",
    "\n",
    "puntuacion = knn.score(x_test, y_test)\n",
    "\n",
    "print(\"La puntuación máxima conseguida en test es: {:.1f}\".format(puntuacion)) "
   ]
  },
  {
   "cell_type": "code",
   "execution_count": 15,
   "metadata": {},
   "outputs": [],
   "source": [
    "from sklearn.metrics import confusion_matrix"
   ]
  },
  {
   "cell_type": "code",
   "execution_count": 16,
   "metadata": {},
   "outputs": [
    {
     "name": "stdout",
     "output_type": "stream",
     "text": [
      "[[2 1 0 1]\n",
      " [1 7 0 0]\n",
      " [0 1 0 0]\n",
      " [3 1 0 0]]\n"
     ]
    }
   ],
   "source": [
    "print(confusion_matrix(y_test, knn.predict(x_test)))"
   ]
  },
  {
   "cell_type": "markdown",
   "metadata": {},
   "source": [
    "                                                                                    Random Forest"
   ]
  },
  {
   "cell_type": "code",
   "execution_count": 17,
   "metadata": {},
   "outputs": [],
   "source": [
    "from sklearn.ensemble import RandomForestClassifier"
   ]
  },
  {
   "cell_type": "code",
   "execution_count": 17,
   "metadata": {},
   "outputs": [],
   "source": [
    "randomForest_grid = RandomForestClassifier(random_state=97)\n",
    "\n",
    "grid_rf = { \n",
    "    'n_estimators': [50, 100, 150, 200, 250, 300, 350, 400, 450, 500],\n",
    "    'max_features': ['auto', 'sqrt'],\n",
    "    'max_depth' : range(5, 15),\n",
    "    'criterion' :['gini', 'entropy']\n",
    "}\n",
    "\n",
    "#CV por defecto de 3\n",
    "\n",
    "randomForest = GridSearchCV(estimator=randomForest_grid, param_grid=grid_rf, cv = 3)"
   ]
  },
  {
   "cell_type": "code",
   "execution_count": 18,
   "metadata": {},
   "outputs": [
    {
     "data": {
      "text/plain": [
       "{'criterion': 'gini',\n",
       " 'max_depth': 5,\n",
       " 'max_features': 'auto',\n",
       " 'n_estimators': 100}"
      ]
     },
     "execution_count": 18,
     "metadata": {},
     "output_type": "execute_result"
    }
   ],
   "source": [
    "randomForest.fit(x_train, y_train)\n",
    "\n",
    "randomForest.best_params_"
   ]
  },
  {
   "cell_type": "code",
   "execution_count": 19,
   "metadata": {},
   "outputs": [
    {
     "name": "stdout",
     "output_type": "stream",
     "text": [
      "RandomForestClassifier(bootstrap=True, class_weight=None, criterion='gini',\n",
      "            max_depth=5, max_features='auto', max_leaf_nodes=None,\n",
      "            min_impurity_decrease=0.0, min_impurity_split=None,\n",
      "            min_samples_leaf=1, min_samples_split=2,\n",
      "            min_weight_fraction_leaf=0.0, n_estimators=100, n_jobs=1,\n",
      "            oob_score=False, random_state=97, verbose=0, warm_start=False)\n",
      "\n",
      "Clasificación Random Forest Grid CV 5\n",
      "La puntuación en tanto por 1 de train de: 0.920\n",
      "La puntuación en tanto por 1 de test es de: 0.471\n"
     ]
    }
   ],
   "source": [
    "print(randomForest.best_estimator_)\n",
    "print(\"\")\n",
    "\n",
    "randomForest = randomForest.best_estimator_.fit(x_train, y_train)\n",
    "\n",
    "print(\"Clasificación Random Forest Grid CV 5\")\n",
    "\n",
    "puntuacion = randomForest.score(x_train, y_train)\n",
    "\n",
    "print(\"La puntuación en tanto por 1 de train de: {:.3f}\".format(puntuacion))\n",
    "\n",
    "puntuacion = randomForest.score(x_test, y_test)\n",
    "\n",
    "print(\"La puntuación en tanto por 1 de test es de: {:.3f}\".format(puntuacion))"
   ]
  },
  {
   "cell_type": "code",
   "execution_count": 20,
   "metadata": {},
   "outputs": [
    {
     "name": "stdout",
     "output_type": "stream",
     "text": [
      "[[1 2 0 1]\n",
      " [2 6 0 0]\n",
      " [0 1 0 0]\n",
      " [1 2 0 1]]\n"
     ]
    }
   ],
   "source": [
    "print(confusion_matrix(y_test, randomForest.predict(x_test)))"
   ]
  },
  {
   "cell_type": "markdown",
   "metadata": {},
   "source": [
    "                                                                                        SVM"
   ]
  },
  {
   "cell_type": "code",
   "execution_count": 18,
   "metadata": {},
   "outputs": [],
   "source": [
    "from sklearn import svm"
   ]
  },
  {
   "cell_type": "code",
   "execution_count": 30,
   "metadata": {},
   "outputs": [
    {
     "data": {
      "text/plain": [
       "{'C': 2, 'degree': 2, 'kernel': 'rbf'}"
      ]
     },
     "execution_count": 30,
     "metadata": {},
     "output_type": "execute_result"
    }
   ],
   "source": [
    "parametros = {\n",
    "    'kernel':('linear', 'rbf', 'poly'),\n",
    "    'C':range(1, 10),\n",
    "    'degree': range(2, 5),\n",
    "    \n",
    "}\n",
    "\n",
    "svc_grid = svm.SVC(random_state=97)\n",
    "svc_grid = GridSearchCV(svc_grid, parametros, cv=3)\n",
    "svc_grid.fit(x_train, y_train)\n",
    "svc_grid.best_params_"
   ]
  },
  {
   "cell_type": "code",
   "execution_count": 31,
   "metadata": {},
   "outputs": [
    {
     "name": "stdout",
     "output_type": "stream",
     "text": [
      "Clasificación SVM Grid CV 3\n",
      "La puntuación del train en tanto por 1 es de: 0.860\n",
      "La puntuación del test en tanto por 1 es de: 0.412\n"
     ]
    }
   ],
   "source": [
    "print(\"Clasificación SVM Grid CV 3\")\n",
    "\n",
    "svc_grid = svc_grid.best_estimator_.fit(x_train, y_train)\n",
    "\n",
    "puntuacion = svc_grid.score(x_train, y_train)\n",
    "\n",
    "print(\"La puntuación del train en tanto por 1 es de: {:.3f}\".format(puntuacion))\n",
    "\n",
    "puntuacion = svc_grid.score(x_test, y_test)\n",
    "\n",
    "print(\"La puntuación del test en tanto por 1 es de: {:.3f}\".format(puntuacion))"
   ]
  },
  {
   "cell_type": "code",
   "execution_count": 33,
   "metadata": {},
   "outputs": [
    {
     "name": "stdout",
     "output_type": "stream",
     "text": [
      "[[1 2 0 1]\n",
      " [2 6 0 0]\n",
      " [0 1 0 0]\n",
      " [1 3 0 0]]\n"
     ]
    }
   ],
   "source": [
    "print(confusion_matrix(y_test, svc_grid.predict(x_test)))"
   ]
  },
  {
   "cell_type": "markdown",
   "metadata": {},
   "source": [
    "                                                                                            K-Means"
   ]
  },
  {
   "cell_type": "code",
   "execution_count": 34,
   "metadata": {},
   "outputs": [],
   "source": [
    "from sklearn.cluster import KMeans"
   ]
  },
  {
   "cell_type": "code",
   "execution_count": 35,
   "metadata": {},
   "outputs": [],
   "source": [
    "# 4 clusters, uno para cada grupo\n",
    "\n",
    "kmeans = KMeans(n_clusters=4, random_state=97)\n",
    "\n",
    "kmeans_model = kmeans.fit(x_train, y_train)"
   ]
  },
  {
   "cell_type": "code",
   "execution_count": 36,
   "metadata": {},
   "outputs": [
    {
     "data": {
      "text/plain": [
       "array([[-0.73559281,  0.22393804, -0.10066827,  0.50428397, -0.4149716 ,\n",
       "         1.58943883, -0.98518437, -0.53708616,  0.67175988, -0.64456732,\n",
       "        -0.12309149,  0.0146385 ,  0.21650635,  0.12347898,  0.26799143,\n",
       "         0.1754116 ,  0.12309149, -0.61499388, -0.59214434,  0.51395617,\n",
       "         0.09116072, -0.3939193 ,  0.18260929, -0.22971146],\n",
       "       [ 0.87158615,  0.18880023,  0.4439408 ,  0.44469486, -0.72929232,\n",
       "         0.00473047,  0.30067315, -0.3657301 , -1.14470294,  1.18019369,\n",
       "        -0.12309149, -0.59251076, -0.47425201, -0.73009398, -0.71586752,\n",
       "        -0.24432331,  0.12309149, -0.15780009,  0.25197632, -0.18880023,\n",
       "        -0.02918939,  0.23447577, -0.19437404, -0.08313367],\n",
       "       [ 0.03983879, -0.07990075, -0.22141869, -0.50172044,  0.63220387,\n",
       "        -0.62915287,  1.01503844, -0.53708616,  0.39869685, -0.37025684,\n",
       "        -0.12309149,  0.34156503,  0.21650635,  0.58309519,  0.22458589,\n",
       "         0.1754116 ,  0.12309149,  0.39688354,  0.00370553,  0.22458589,\n",
       "         0.1035497 , -0.22141869,  0.02738086,  0.31348858],\n",
       "       [-0.23509089, -0.24066202, -0.06808482, -0.2836165 ,  0.31844343,\n",
       "        -0.62915287, -0.98518437,  1.86189867,  0.20082508, -0.17148113,\n",
       "        -0.12309149,  0.34156503,  0.21650635,  0.32775285,  0.24066202,\n",
       "         0.1754116 ,  0.12309149,  0.76293739,  0.25197632, -0.30592629,\n",
       "         0.72299881, -0.3939193 , -0.53708616, -0.11570651]])"
      ]
     },
     "execution_count": 36,
     "metadata": {},
     "output_type": "execute_result"
    }
   ],
   "source": [
    "prediction_kmeans = kmeans_model.predict(x_test)\n",
    "\n",
    "kmeans_model.cluster_centers_"
   ]
  },
  {
   "cell_type": "markdown",
   "metadata": {},
   "source": [
    "Para hacer plotting, tengo que reducir a dos dimensiones y entonces mostrarlo:"
   ]
  },
  {
   "cell_type": "code",
   "execution_count": 39,
   "metadata": {},
   "outputs": [],
   "source": [
    "# Esta representación no es la de KMeans, sino la real sobre las dos dimensiones más significativas\n",
    "\n",
    "from sklearn.decomposition import PCA\n",
    "import matplotlib.pyplot as plt\n",
    "\n",
    "pca = PCA(n_components=2)\n",
    "\n",
    "comp_p = pca.fit_transform(datos_ml)\n",
    "df_pca_2 = pd.DataFrame(data = comp_p, columns = ['Componente Principal 1', 'Componente Principal 2'])\n",
    "\n",
    "df_pca_2 = pd.concat([df_pca_2, datos.iloc[:, 25]], axis = 1)\n",
    "\n",
    "fig = plt.figure(figsize = (10,10))\n",
    "ax = fig.add_subplot(1,1,1)\n",
    "ax.set_xlabel('Componente Principal 1', fontsize = 15)\n",
    "ax.set_ylabel('Componente Principal 2', fontsize = 15)\n",
    "ax.set_title('2 Componentes Principales', fontsize = 25)\n",
    "targets = [1, 2, 3, 4]\n",
    "colors = ['r', 'g', 'b', 'y']\n",
    "\n",
    "for target, color in zip(targets,colors):\n",
    "    indicesToKeep = df_pca_2.iloc[:, 2] == target\n",
    "    ax.scatter(df_pca_2.loc[indicesToKeep, 'Componente Principal 1'], df_pca_2.loc[indicesToKeep, 'Componente Principal 2']\n",
    "               ,c = color ,s = 50)\n",
    "    \n",
    "ax.legend(targets)\n",
    "plt.savefig(\"Imágenes Obtenidas/Plot Kmeans.png\")\n",
    "ax.grid()"
   ]
  },
  {
   "cell_type": "markdown",
   "metadata": {},
   "source": [
    "Se puede observar claramente que es un problema dificilmente clasificable, al menos en dos dimensiones"
   ]
  },
  {
   "cell_type": "markdown",
   "metadata": {},
   "source": [
    "Técnica Resampling"
   ]
  },
  {
   "cell_type": "code",
   "execution_count": 9,
   "metadata": {},
   "outputs": [
    {
     "data": {
      "text/plain": [
       " grupo\n",
       "1    25\n",
       "2    30\n",
       "3    25\n",
       "4    25\n",
       "Name:  grupo, dtype: int64"
      ]
     },
     "execution_count": 9,
     "metadata": {},
     "output_type": "execute_result"
    }
   ],
   "source": [
    "from sklearn.utils import resample\n",
    "\n",
    "# Separación de las clases que son mayoría y minoría\n",
    "\n",
    "df_minority1 = datos[datos.iloc[:, 25]==1]\n",
    "df_majority2 = datos[datos.iloc[:, 25]==2]\n",
    "df_minority3 = datos[datos.iloc[:, 25]==3]\n",
    "df_minority4 = datos[datos.iloc[:, 25]==4]\n",
    " \n",
    "# Resample de las minorías\n",
    "\n",
    "df_minority_upsampled1 = resample(df_minority1, \n",
    "                                 replace=True,     # Con replacement\n",
    "                                 n_samples=25,     # Para conseguir esa cantidad\n",
    "                                 random_state=97)  # Reproducible mediante seed\n",
    "\n",
    "df_minority_upsampled3 = resample(df_minority3, \n",
    "                                 replace=True,     \n",
    "                                 n_samples=25,    \n",
    "                                 random_state=97) \n",
    "\n",
    "df_minority_upsampled4 = resample(df_minority4, \n",
    "                                 replace=True,     \n",
    "                                 n_samples=25,    \n",
    "                                 random_state=97) \n",
    " \n",
    "# Combinación de las clases resampleadas\n",
    "\n",
    "df_upsampled = pd.concat([df_minority_upsampled1, df_majority2, df_minority_upsampled3, df_minority_upsampled4])\n",
    " \n",
    "# Muestra de la cantidad\n",
    "\n",
    "df_upsampled.iloc[:, 25].groupby(df_upsampled.iloc[:, 25]).count()"
   ]
  },
  {
   "cell_type": "code",
   "execution_count": 10,
   "metadata": {},
   "outputs": [
    {
     "name": "stderr",
     "output_type": "stream",
     "text": [
      "D:\\Users\\Jorge\\Anaconda3\\lib\\site-packages\\ipykernel_launcher.py:7: DataConversionWarning: Data with input dtype int64 were all converted to float64 by the scale function.\n",
      "  import sys\n"
     ]
    }
   ],
   "source": [
    "# Hay que hacer una separación entre datos de train y test\n",
    "\n",
    "nuevosGrupos = df_upsampled.iloc[:, 25]\n",
    "datos_mod = df_upsampled.iloc[:, -25:-1]\n",
    "\n",
    "from sklearn.preprocessing import scale\n",
    "\n",
    "datos_ml = scale(datos_mod)\n",
    "\n",
    "from sklearn.model_selection import train_test_split\n",
    "\n",
    "x_train, x_test, y_train, y_test = train_test_split(datos_ml, nuevosGrupos, random_state=97)"
   ]
  },
  {
   "cell_type": "markdown",
   "metadata": {},
   "source": [
    "                                                                                        KNN Balanceado"
   ]
  },
  {
   "cell_type": "code",
   "execution_count": 52,
   "metadata": {},
   "outputs": [],
   "source": [
    "# Se hace una grid para comprobar cuales serán los mejores parámetros\n",
    "\n",
    "from sklearn.model_selection import GridSearchCV\n",
    "\n",
    "grid_knn = {\n",
    "    'n_neighbors' : range(1, 15),\n",
    "    'metric' : ['euclidean', 'manhattan']\n",
    "}"
   ]
  },
  {
   "cell_type": "code",
   "execution_count": 55,
   "metadata": {},
   "outputs": [],
   "source": [
    "from sklearn.neighbors import KNeighborsClassifier\n",
    "\n",
    "knn = GridSearchCV(KNeighborsClassifier(), grid_knn, cv = 3, scoring='accuracy')"
   ]
  },
  {
   "cell_type": "code",
   "execution_count": 56,
   "metadata": {},
   "outputs": [
    {
     "data": {
      "text/plain": [
       "GridSearchCV(cv=3, error_score='raise',\n",
       "       estimator=KNeighborsClassifier(algorithm='auto', leaf_size=30, metric='minkowski',\n",
       "           metric_params=None, n_jobs=1, n_neighbors=5, p=2,\n",
       "           weights='uniform'),\n",
       "       fit_params=None, iid=True, n_jobs=1,\n",
       "       param_grid={'n_neighbors': range(1, 15), 'metric': ['euclidean', 'manhattan']},\n",
       "       pre_dispatch='2*n_jobs', refit=True, return_train_score='warn',\n",
       "       scoring='accuracy', verbose=0)"
      ]
     },
     "execution_count": 56,
     "metadata": {},
     "output_type": "execute_result"
    }
   ],
   "source": [
    "knn.fit(x_train, y_train)"
   ]
  },
  {
   "cell_type": "code",
   "execution_count": 57,
   "metadata": {},
   "outputs": [
    {
     "data": {
      "text/plain": [
       "{'metric': 'manhattan', 'n_neighbors': 1}"
      ]
     },
     "execution_count": 57,
     "metadata": {},
     "output_type": "execute_result"
    }
   ],
   "source": [
    "knn.best_params_"
   ]
  },
  {
   "cell_type": "code",
   "execution_count": 58,
   "metadata": {},
   "outputs": [
    {
     "name": "stdout",
     "output_type": "stream",
     "text": [
      "La puntuación máxima conseguida en train es: 1.0\n",
      "La puntuación máxima conseguida en test es: 0.8\n"
     ]
    }
   ],
   "source": [
    "from sklearn.model_selection import cross_val_score\n",
    "\n",
    "knn = knn.best_estimator_.fit(x_train, y_train)\n",
    "\n",
    "puntuacion = knn.score(x_train, y_train)\n",
    "\n",
    "print(\"La puntuación máxima conseguida en train es: {:.1f}\".format(puntuacion)) \n",
    "\n",
    "puntuacion = knn.score(x_test, y_test)\n",
    "\n",
    "print(\"La puntuación máxima conseguida en test es: {:.1f}\".format(puntuacion)) "
   ]
  },
  {
   "cell_type": "code",
   "execution_count": 23,
   "metadata": {},
   "outputs": [],
   "source": [
    "from sklearn.metrics import confusion_matrix"
   ]
  },
  {
   "cell_type": "code",
   "execution_count": 60,
   "metadata": {},
   "outputs": [
    {
     "name": "stdout",
     "output_type": "stream",
     "text": [
      "[[4 0 0 2]\n",
      " [0 5 1 2]\n",
      " [1 0 8 0]\n",
      " [0 0 0 4]]\n"
     ]
    }
   ],
   "source": [
    "print(confusion_matrix(y_test, knn.predict(x_test)))"
   ]
  },
  {
   "cell_type": "markdown",
   "metadata": {},
   "source": [
    "Como se puede observar, se ha consguido la misma puntuación pero ahora acierta medianamente con todos los grupos"
   ]
  },
  {
   "cell_type": "markdown",
   "metadata": {},
   "source": [
    "                                                                                Random Forest Balanceado"
   ]
  },
  {
   "cell_type": "code",
   "execution_count": 61,
   "metadata": {},
   "outputs": [],
   "source": [
    "from sklearn.ensemble import RandomForestClassifier"
   ]
  },
  {
   "cell_type": "code",
   "execution_count": 62,
   "metadata": {},
   "outputs": [],
   "source": [
    "randomForest_grid = RandomForestClassifier(random_state=97)\n",
    "\n",
    "grid_rf = { \n",
    "    'n_estimators': [50, 100, 150, 200, 250, 300, 350, 400, 450, 500],\n",
    "    'max_features': ['auto', 'sqrt'],\n",
    "    'max_depth' : range(5, 15),\n",
    "    'criterion' :['gini', 'entropy']\n",
    "}\n",
    "\n",
    "#CV por defecto de 3\n",
    "\n",
    "randomForest = GridSearchCV(estimator=randomForest_grid, param_grid=grid_rf, cv = 3)"
   ]
  },
  {
   "cell_type": "code",
   "execution_count": 63,
   "metadata": {},
   "outputs": [
    {
     "data": {
      "text/plain": [
       "{'criterion': 'entropy',\n",
       " 'max_depth': 7,\n",
       " 'max_features': 'auto',\n",
       " 'n_estimators': 50}"
      ]
     },
     "execution_count": 63,
     "metadata": {},
     "output_type": "execute_result"
    }
   ],
   "source": [
    "randomForest.fit(x_train, y_train)\n",
    "\n",
    "randomForest.best_params_"
   ]
  },
  {
   "cell_type": "code",
   "execution_count": 64,
   "metadata": {},
   "outputs": [
    {
     "name": "stdout",
     "output_type": "stream",
     "text": [
      "RandomForestClassifier(bootstrap=True, class_weight=None, criterion='entropy',\n",
      "            max_depth=7, max_features='auto', max_leaf_nodes=None,\n",
      "            min_impurity_decrease=0.0, min_impurity_split=None,\n",
      "            min_samples_leaf=1, min_samples_split=2,\n",
      "            min_weight_fraction_leaf=0.0, n_estimators=50, n_jobs=1,\n",
      "            oob_score=False, random_state=97, verbose=0, warm_start=False)\n",
      "\n",
      "Clasificación Random Forest Grid CV 5 Balanceado\n",
      "La puntuación en tanto por 1 de train de: 1.000\n",
      "La puntuación en tanto por 1 de test es de: 0.778\n"
     ]
    }
   ],
   "source": [
    "print(randomForest.best_estimator_)\n",
    "print(\"\")\n",
    "\n",
    "randomForest = randomForest.best_estimator_.fit(x_train, y_train)\n",
    "\n",
    "print(\"Clasificación Random Forest Grid CV 5 Balanceado\")\n",
    "\n",
    "puntuacion = randomForest.score(x_train, y_train)\n",
    "\n",
    "print(\"La puntuación en tanto por 1 de train de: {:.3f}\".format(puntuacion))\n",
    "\n",
    "puntuacion = randomForest.score(x_test, y_test)\n",
    "\n",
    "print(\"La puntuación en tanto por 1 de test es de: {:.3f}\".format(puntuacion))"
   ]
  },
  {
   "cell_type": "code",
   "execution_count": 65,
   "metadata": {},
   "outputs": [
    {
     "name": "stdout",
     "output_type": "stream",
     "text": [
      "[[4 0 0 2]\n",
      " [0 5 1 2]\n",
      " [1 0 8 0]\n",
      " [0 0 0 4]]\n"
     ]
    }
   ],
   "source": [
    "print(confusion_matrix(y_test, randomForest.predict(x_test)))"
   ]
  },
  {
   "cell_type": "markdown",
   "metadata": {},
   "source": [
    "                                                                                            SVM Balanceado"
   ]
  },
  {
   "cell_type": "code",
   "execution_count": 66,
   "metadata": {},
   "outputs": [],
   "source": [
    "from sklearn import svm"
   ]
  },
  {
   "cell_type": "code",
   "execution_count": 67,
   "metadata": {},
   "outputs": [
    {
     "data": {
      "text/plain": [
       "{'C': 1, 'degree': 2, 'kernel': 'rbf'}"
      ]
     },
     "execution_count": 67,
     "metadata": {},
     "output_type": "execute_result"
    }
   ],
   "source": [
    "parametros = {\n",
    "    'kernel':('linear', 'rbf', 'poly'),\n",
    "    'C':range(1, 10),\n",
    "    'degree': range(2, 5),\n",
    "    \n",
    "}\n",
    "\n",
    "svc_grid = svm.SVC(random_state=97)\n",
    "svc_grid = GridSearchCV(svc_grid, parametros, cv=3)\n",
    "svc_grid.fit(x_train, y_train)\n",
    "svc_grid.best_params_"
   ]
  },
  {
   "cell_type": "code",
   "execution_count": 68,
   "metadata": {},
   "outputs": [
    {
     "name": "stdout",
     "output_type": "stream",
     "text": [
      "Clasificación SVM Grid CV 3 Balanceado\n",
      "La puntuación del train en tanto por 1 es de: 0.923\n",
      "La puntuación del test en tanto por 1 es de: 0.741\n"
     ]
    }
   ],
   "source": [
    "print(\"Clasificación SVM Grid CV 3 Balanceado\")\n",
    "\n",
    "svc_grid = svc_grid.best_estimator_.fit(x_train, y_train)\n",
    "\n",
    "puntuacion = svc_grid.score(x_train, y_train)\n",
    "\n",
    "print(\"La puntuación del train en tanto por 1 es de: {:.3f}\".format(puntuacion))\n",
    "\n",
    "puntuacion = svc_grid.score(x_test, y_test)\n",
    "\n",
    "print(\"La puntuación del test en tanto por 1 es de: {:.3f}\".format(puntuacion))"
   ]
  },
  {
   "cell_type": "code",
   "execution_count": 69,
   "metadata": {},
   "outputs": [
    {
     "name": "stdout",
     "output_type": "stream",
     "text": [
      "[[5 0 0 1]\n",
      " [0 4 1 3]\n",
      " [1 0 8 0]\n",
      " [1 0 0 3]]\n"
     ]
    }
   ],
   "source": [
    "print(confusion_matrix(y_test, svc_grid.predict(x_test)))"
   ]
  },
  {
   "cell_type": "markdown",
   "metadata": {},
   "source": [
    "                                                                                        K-Means Balanceado"
   ]
  },
  {
   "cell_type": "code",
   "execution_count": 70,
   "metadata": {},
   "outputs": [
    {
     "data": {
      "text/plain": [
       "array([[-0.33127463,  1.09260144,  0.11413441,  0.54072872, -0.60012057,\n",
       "         0.54797155, -0.19751388, -0.40424586,  0.42107288, -0.38587787,\n",
       "        -0.1393466 ,  0.32444284,  0.1393466 , -0.38441357,  0.24182123,\n",
       "         0.09805807,  0.        , -0.27169424, -0.32553622,  0.37590471,\n",
       "        -1.44507276, -0.30618622,  1.78885438,  0.69200668],\n",
       "       [-0.71920007, -0.21833234, -0.48507125, -0.47982246,  0.83427977,\n",
       "         0.09805807,  0.22449978, -0.3742276 ,  0.71092099, -0.67878366,\n",
       "        -0.1393466 , -0.28388749,  0.1393466 ,  0.41235417, -0.31622777,\n",
       "         0.09805807,  0.        , -0.4330127 , -0.49276373,  0.26747066,\n",
       "         0.69200668, -0.30618622, -0.55901699, -0.45285731],\n",
       "       [ 0.25206473, -0.51605826,  0.44097386,  0.25712974, -0.58941324,\n",
       "        -0.31646013, -0.24135945,  0.64639313, -0.71314958,  0.76030976,\n",
       "        -0.1393466 ,  0.0147474 ,  0.1393466 ,  0.14899794,  0.02874798,\n",
       "        -0.36994635,  0.        ,  0.4198911 ,  0.45485883,  0.09989076,\n",
       "         0.5948667 , -0.30618622, -0.45229557,  0.30344678],\n",
       "       [ 1.01853257, -0.21107073, -0.25355997,  0.25712974, -0.04333921,\n",
       "        -0.59726278,  0.69035902, -0.11134044, -1.27475488,  0.94948636,\n",
       "         1.19078006,  0.0147474 , -1.19078006, -0.9471334 ,  0.43121968,\n",
       "         0.09805807,  0.        ,  0.23618875,  0.45485883, -1.28017896,\n",
       "        -1.05651287,  2.61650041, -0.55901699, -0.86223292]])"
      ]
     },
     "execution_count": 70,
     "metadata": {},
     "output_type": "execute_result"
    }
   ],
   "source": [
    "from sklearn.cluster import KMeans\n",
    "\n",
    "# 4 clusters, uno para cada grupo\n",
    "\n",
    "kmeans = KMeans(n_clusters=4, random_state=97)\n",
    "\n",
    "kmeans_model = kmeans.fit(x_train, y_train)\n",
    "prediction_kmeans = kmeans_model.predict(x_test)\n",
    "\n",
    "kmeans_model.cluster_centers_\n"
   ]
  },
  {
   "cell_type": "code",
   "execution_count": 71,
   "metadata": {},
   "outputs": [
    {
     "data": {
      "image/png": "[encoded data removed]",
      "text/plain": [
       "<Figure size 720x720 with 1 Axes>"
      ]
     },
     "metadata": {},
     "output_type": "display_data"
    }
   ],
   "source": [
    "# Esta representación no es la de KMeans, sino la real sobre las dos dimensiones más significativas\n",
    "\n",
    "from sklearn.decomposition import PCA\n",
    "import matplotlib.pyplot as plt\n",
    "\n",
    "pca = PCA(n_components=2)\n",
    "\n",
    "comp_p = pca.fit_transform(datos_ml)\n",
    "df_pca_2 = pd.DataFrame(data = comp_p, columns = ['Componente Principal 1', 'Componente Principal 2'])\n",
    "\n",
    "df_pca_2 = pd.concat([df_pca_2, datos.iloc[:, 25]], axis = 1)\n",
    "\n",
    "fig = plt.figure(figsize = (10,10))\n",
    "ax = fig.add_subplot(1,1,1)\n",
    "ax.set_xlabel('Componente Principal 1', fontsize = 15)\n",
    "ax.set_ylabel('Componente Principal 2', fontsize = 15)\n",
    "ax.set_title('2 Componentes Principales', fontsize = 25)\n",
    "targets = [1, 2, 3, 4]\n",
    "colors = ['r', 'g', 'b', 'y']\n",
    "\n",
    "for target, color in zip(targets,colors):\n",
    "    indicesToKeep = df_pca_2.iloc[:, 2] == target\n",
    "    ax.scatter(df_pca_2.loc[indicesToKeep, 'Componente Principal 1'], df_pca_2.loc[indicesToKeep, 'Componente Principal 2']\n",
    "               ,c = color ,s = 50)\n",
    "    \n",
    "ax.legend(targets)\n",
    "plt.savefig(\"Imágenes Obtenidas/Plot Kmeans Resampled.png\")\n",
    "ax.grid()"
   ]
  },
  {
   "cell_type": "markdown",
   "metadata": {},
   "source": [
    "                                                                                        Deep Learning"
   ]
  },
  {
   "cell_type": "code",
   "execution_count": 297,
   "metadata": {},
   "outputs": [],
   "source": [
    "from keras.models import Sequential\n",
    "from keras.layers import Dense\n",
    "\n",
    "# Inicialización del constructor\n",
    "modelo = Sequential()\n",
    "\n",
    "# Input\n",
    "modelo.add(Dense(24, activation='relu', input_shape=(24,)))\n",
    "\n",
    "# Oculta(s)\n",
    "modelo.add(Dense(6, activation='relu'))\n",
    "modelo.add(Dense(5, activation='relu'))\n",
    "modelo.add(Dense(4, activation='relu'))\n",
    "\n",
    "# Output \n",
    "modelo.add(Dense(4, activation='softmax'))"
   ]
  },
  {
   "cell_type": "code",
   "execution_count": 298,
   "metadata": {},
   "outputs": [
    {
     "name": "stdout",
     "output_type": "stream",
     "text": [
      "_________________________________________________________________\n",
      "Layer (type)                 Output Shape              Param #   \n",
      "=================================================================\n",
      "dense_155 (Dense)            (None, 24)                600       \n",
      "_________________________________________________________________\n",
      "dense_156 (Dense)            (None, 6)                 150       \n",
      "_________________________________________________________________\n",
      "dense_157 (Dense)            (None, 5)                 35        \n",
      "_________________________________________________________________\n",
      "dense_158 (Dense)            (None, 4)                 24        \n",
      "_________________________________________________________________\n",
      "dense_159 (Dense)            (None, 4)                 20        \n",
      "=================================================================\n",
      "Total params: 829\n",
      "Trainable params: 829\n",
      "Non-trainable params: 0\n",
      "_________________________________________________________________\n"
     ]
    }
   ],
   "source": [
    "# Dimensiones de output del modelo\n",
    "# modelo.output_shape\n",
    "\n",
    "# Resumen del modelo\n",
    "modelo.summary()\n",
    "\n",
    "# Configuración del modelo\n",
    "#modelo.get_config()\n",
    "\n",
    "# Lista de los pesos\n",
    "#modelo.get_weights()"
   ]
  },
  {
   "cell_type": "code",
   "execution_count": 299,
   "metadata": {},
   "outputs": [],
   "source": [
    "# Tengo que codificar el y_train y el y_test con onehot para obtener 4 dimensiones, que es lo que quiere la red\n",
    "\n",
    "from pandas import get_dummies\n",
    "\n",
    "dummy_ytrain = get_dummies(y_train)\n",
    "dummy_ytest = get_dummies(y_test)"
   ]
  },
  {
   "cell_type": "code",
   "execution_count": 300,
   "metadata": {},
   "outputs": [],
   "source": [
    "modelo.compile(loss='binary_crossentropy',\n",
    "              optimizer='adam',\n",
    "              metrics=['accuracy'])\n",
    "                   \n",
    "model_dl = modelo.fit(x_train, dummy_ytrain, epochs=50, batch_size=1, verbose=0)"
   ]
  },
  {
   "cell_type": "code",
   "execution_count": 301,
   "metadata": {},
   "outputs": [
    {
     "data": {
      "text/plain": [
       "array([[4.32479754e-02, 4.11877828e-03, 1.03039984e-05, 9.52622950e-01],\n",
       "       [7.19834259e-03, 1.90082181e-04, 9.92598534e-01, 1.30294484e-05],\n",
       "       [2.34919846e-01, 4.70290840e-01, 1.00991145e-01, 1.93798110e-01],\n",
       "       [1.03417570e-02, 6.24095492e-06, 9.89648938e-01, 3.02594344e-06],\n",
       "       [7.40985124e-05, 9.50132668e-01, 2.56340377e-06, 4.97907251e-02],\n",
       "       [7.19834259e-03, 1.90082181e-04, 9.92598534e-01, 1.30294484e-05],\n",
       "       [9.19810832e-02, 8.13174620e-03, 6.76637137e-05, 8.99819553e-01],\n",
       "       [2.22923188e-03, 5.39347006e-04, 1.41232110e-08, 9.97231424e-01],\n",
       "       [7.85879269e-02, 7.59681821e-01, 6.89343214e-02, 9.27958712e-02],\n",
       "       [1.03417570e-02, 6.24095492e-06, 9.89648938e-01, 3.02594344e-06],\n",
       "       [1.09145969e-01, 9.48092993e-03, 1.04820596e-04, 8.81268322e-01],\n",
       "       [5.50529221e-03, 7.79723048e-01, 2.74251186e-04, 2.14497417e-01],\n",
       "       [1.16252907e-09, 9.99998212e-01, 1.45705610e-06, 3.69910396e-07],\n",
       "       [7.10948229e-01, 2.91045960e-02, 1.60792977e-01, 9.91542414e-02],\n",
       "       [1.76833622e-04, 9.65045393e-01, 3.45724337e-02, 2.05293429e-04],\n",
       "       [6.23244524e-01, 7.75736496e-02, 9.07861963e-02, 2.08395571e-01],\n",
       "       [4.27746691e-08, 1.01237027e-04, 9.99898672e-01, 1.82354132e-11],\n",
       "       [4.27746691e-08, 1.01237027e-04, 9.99898672e-01, 1.82354132e-11],\n",
       "       [9.55310534e-04, 9.77000773e-01, 5.67629817e-04, 2.14763135e-02],\n",
       "       [6.15036905e-01, 8.49189833e-02, 1.11687422e-01, 1.88356772e-01],\n",
       "       [7.10948229e-01, 2.91045960e-02, 1.60792977e-01, 9.91542414e-02],\n",
       "       [1.01126499e-01, 1.36167780e-02, 1.25010949e-04, 8.85131657e-01],\n",
       "       [6.23244524e-01, 7.75736496e-02, 9.07861963e-02, 2.08395571e-01],\n",
       "       [5.45928776e-01, 5.29567450e-02, 2.13434007e-02, 3.79771113e-01],\n",
       "       [7.19833886e-03, 1.90081264e-04, 9.92598534e-01, 1.30294229e-05],\n",
       "       [7.19833886e-03, 1.90081264e-04, 9.92598534e-01, 1.30294229e-05],\n",
       "       [1.40391651e-03, 3.98305856e-04, 5.15829290e-09, 9.98197854e-01]],\n",
       "      dtype=float32)"
      ]
     },
     "execution_count": 301,
     "metadata": {},
     "output_type": "execute_result"
    }
   ],
   "source": [
    "y_pred = modelo.predict(x_test)\n",
    "y_pred"
   ]
  },
  {
   "cell_type": "code",
   "execution_count": 302,
   "metadata": {},
   "outputs": [
    {
     "name": "stdout",
     "output_type": "stream",
     "text": [
      "78/78 [==============================] - 0s 6ms/step\n",
      "[0.09136077780754139, 0.964743585158617]\n"
     ]
    }
   ],
   "source": [
    "score = modelo.evaluate(x_train, dummy_ytrain, verbose=1)\n",
    "\n",
    "print(score)"
   ]
  },
  {
   "cell_type": "code",
   "execution_count": 303,
   "metadata": {},
   "outputs": [
    {
     "name": "stdout",
     "output_type": "stream",
     "text": [
      "27/27 [==============================] - 0s 0us/step\n",
      "[0.22244924306869507, 0.9351851940155029]\n"
     ]
    }
   ],
   "source": [
    "score = modelo.evaluate(x_test, dummy_ytest, verbose=1)\n",
    "\n",
    "print(score)"
   ]
  },
  {
   "cell_type": "code",
   "execution_count": 304,
   "metadata": {},
   "outputs": [
    {
     "data": {
      "image/png": "[encoded data removed]",
      "text/plain": [
       "<Figure size 432x288 with 1 Axes>"
      ]
     },
     "metadata": {
      "needs_background": "light"
     },
     "output_type": "display_data"
    }
   ],
   "source": [
    "# Precisión en el entrenamiento\n",
    "\n",
    "import matplotlib.pyplot as plt\n",
    "\n",
    "plt.title('Precisión de entrenamiento')\n",
    "plt.plot(model_dl.history['acc'], label='train')\n",
    "plt.legend()\n",
    "plt.savefig(\"Imágenes Obtenidas/Precisión Entrenamiento Deep Learning.png\")\n",
    "plt.show()"
   ]
  }
 ],
 "metadata": {
  "kernelspec": {
   "display_name": "Python 3",
   "language": "python",
   "name": "python3"
  },
  "language_info": {
   "codemirror_mode": {
    "name": "ipython",
    "version": 3
   },
   "file_extension": ".py",
   "mimetype": "text/x-python",
   "name": "python",
   "nbconvert_exporter": "python",
   "pygments_lexer": "ipython3",
   "version": "3.6.5"
  }
 },
 "nbformat": 4,
 "nbformat_minor": 2
}
